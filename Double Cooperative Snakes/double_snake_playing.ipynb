{
 "cells": [
  {
   "cell_type": "code",
   "execution_count": 1,
   "metadata": {},
   "outputs": [
    {
     "name": "stderr",
     "output_type": "stream",
     "text": [
      "/home/janak/Documents/Pytorch_CPU/venv/lib/python3.10/site-packages/pygame/pkgdata.py:25: DeprecationWarning: pkg_resources is deprecated as an API. See https://setuptools.pypa.io/en/latest/pkg_resources.html\n",
      "  from pkg_resources import resource_stream, resource_exists\n"
     ]
    }
   ],
   "source": [
    "import gym\n",
    "import gym\n",
    "import numpy as np\n",
    "import torch\n",
    "\n",
    "from snake_double import SnakeMultiAgentEnv\n",
    "\n",
    "from mppo import PPOAgent\n",
    "\n",
    "import pygame\n",
    "# Initialize Pygame\n",
    "pygame.init()\n",
    "pygame.font.init()"
   ]
  },
  {
   "cell_type": "code",
   "execution_count": 2,
   "metadata": {},
   "outputs": [],
   "source": [
    "HEIGHT = 10\n",
    "WIDTH = 10\n",
    "env = SnakeMultiAgentEnv(width=600, height=600, rows=HEIGHT, cols=HEIGHT)\n",
    "agent = PPOAgent(height=HEIGHT,width=WIDTH)\n",
    "checkpoint = 'ppo_cnn_double_snake_checkpoint.pth'"
   ]
  },
  {
   "cell_type": "code",
   "execution_count": 3,
   "metadata": {},
   "outputs": [
    {
     "name": "stdout",
     "output_type": "stream",
     "text": [
      "Model and rewards loaded from ppo_cnn_double_snake_checkpoint.pth\n"
     ]
    }
   ],
   "source": [
    "try:\n",
    "    agent.load(checkpoint)\n",
    "except Exception as e:\n",
    "    print(e)"
   ]
  },
  {
   "cell_type": "code",
   "execution_count": 4,
   "metadata": {},
   "outputs": [
    {
     "name": "stdout",
     "output_type": "stream",
     "text": [
      "Episode 1: Total Rewards: [-5. -5.]\n",
      "Episode 2: Total Rewards: [-5.07 -5.07]\n",
      "Episode 3: Total Rewards: [140.32 140.32]\n",
      "Episode 4: Total Rewards: [-5. -5.]\n",
      "Episode 5: Total Rewards: [171.59 191.59]\n",
      "Episode 6: Total Rewards: [170.04 150.04]\n",
      "Episode 7: Total Rewards: [-5. -5.]\n",
      "Episode 8: Total Rewards: [187.28 207.28]\n",
      "Episode 9: Total Rewards: [-5.01 -5.01]\n",
      "Episode 10: Total Rewards: [-5. -5.]\n"
     ]
    }
   ],
   "source": [
    "agent.test(env)"
   ]
  },
  {
   "cell_type": "code",
   "execution_count": 6,
   "metadata": {},
   "outputs": [
    {
     "name": "stdout",
     "output_type": "stream",
     "text": [
      "Episode 1: Total Rewards: [ 74.24 184.24]\n",
      "258.48000000000036\n",
      "Episode 2: Total Rewards: [150.23 100.23]\n",
      "250.45999999999802\n",
      "Episode 3: Total Rewards: [-5.07 -5.07]\n",
      "-10.14\n",
      "Episode 4: Total Rewards: [140.47 180.47]\n",
      "320.9399999999997\n",
      "Episode 5: Total Rewards: [168.41 198.41]\n",
      "366.82000000000255\n"
     ]
    }
   ],
   "source": [
    "env = SnakeMultiAgentEnv(width=600, height=600, rows=HEIGHT, cols=HEIGHT)\n",
    "pygame.init()\n",
    "pygame.font.init()\n",
    "for i in range(5):\n",
    "    \n",
    "\n",
    "    state = env.reset()\n",
    "    rewards = 0\n",
    "    done = False\n",
    "    total_rewards = np.zeros(2)\n",
    "\n",
    "\n",
    "    # for step in range(3000):\n",
    "    while not done:\n",
    "        \n",
    "        env.render()\n",
    "        state_tensor = torch.FloatTensor(state).unsqueeze(0).unsqueeze(0)\n",
    "        dist = agent.policy_old.pi(state_tensor)\n",
    "        actions = dist.sample()\n",
    "        action1 = actions[0][0].item()\n",
    "        action2 = actions[0][1].item()\n",
    "        state, reward, done, _ = env.step([action1, action2])\n",
    "        # state, reward, done, _ = env.step(action.item())\n",
    "        \n",
    "        \n",
    "        total_rewards += reward\n",
    "        \n",
    "        # print(f\"{step}:{reward}: {rewards}\")\n",
    "        if done:\n",
    "            observation = env.reset()\n",
    "            # print(rewards)\n",
    "            break\n",
    "    print(f\"Episode {i + 1}: Total Rewards: {total_rewards}\")\n",
    "    # self.rewards.append(total_rewards.sum())\n",
    "    # print(rewards)\n",
    "    print(total_rewards.sum())\n",
    "env.close()"
   ]
  }
 ],
 "metadata": {
  "kernelspec": {
   "display_name": "venv",
   "language": "python",
   "name": "python3"
  },
  "language_info": {
   "codemirror_mode": {
    "name": "ipython",
    "version": 3
   },
   "file_extension": ".py",
   "mimetype": "text/x-python",
   "name": "python",
   "nbconvert_exporter": "python",
   "pygments_lexer": "ipython3",
   "version": "3.10.12"
  }
 },
 "nbformat": 4,
 "nbformat_minor": 2
}
